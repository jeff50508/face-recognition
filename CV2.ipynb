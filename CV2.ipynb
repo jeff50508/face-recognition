{
 "cells": [
  {
   "cell_type": "code",
   "execution_count": 35,
   "id": "4e7dc963",
   "metadata": {},
   "outputs": [
    {
     "name": "stdout",
     "output_type": "stream",
     "text": [
      "[[396 105 358 358]]\n"
     ]
    }
   ],
   "source": [
    "import cv2\n",
    "# 載入攝像頭或影像位置\n",
    "img=cv2.imread('C:\\\\Users\\\\jeff5\\\\Desktop\\\\AI.jpg')\n",
    "# 套件位置\n",
    "face_cascade=cv2.CascadeClassifier(\"C:\\\\Users\\\\jeff5\\\\Desktop\\\\opencv-4.x\\\\data\\\\haarcascades_cuda\\\\haarcascade_frontalface_default.xml\")\n",
    "eye_cascade=cv2.CascadeClassifier(\"C:\\\\Users\\\\jeff5\\\\Desktop\\\\opencv-4.x\\\\data\\\\haarcascades_cuda\\\\haarcascade_eye.xml\")\n",
    "# 轉成灰階\n",
    "gray=cv2.cvtColor(img,cv2.COLOR_BGR2RGB)\n",
    "# 偵測模式\n",
    "faces=face_cascade.detectMultiScale(gray,scaleFactor=1.1,minNeighbors=5)\n",
    "print(faces)\n",
    "# 劃出人臉範圍\n",
    "for (x,y,w,h)in faces:\n",
    "    cv2.rectangle(img,(x,y),(x+w,y+h),(255,0,0),3)\n",
    "    roi_gray=gray[y:y+h,x:x+w]\n",
    "    roi_color=img[y:y+h,x:x+w]\n",
    "    eyes=eye_cascade.detectMultiScale(roi_gray)\n",
    "    for (ex,ey,ew,eh)in eyes:\n",
    "        cv2.rectangle(roi_color,(ex,ey),(ex+ew,ey+eh),(0,255,0,),4)\n",
    "cv2.imshow('img',img)\n",
    "cv2.waitKey(0)\n",
    "cv2.destroyAllWindows()"
   ]
  },
  {
   "cell_type": "code",
   "execution_count": null,
   "id": "3e2d4841",
   "metadata": {},
   "outputs": [],
   "source": []
  }
 ],
 "metadata": {
  "kernelspec": {
   "display_name": "Python 3 (ipykernel)",
   "language": "python",
   "name": "python3"
  },
  "language_info": {
   "codemirror_mode": {
    "name": "ipython",
    "version": 3
   },
   "file_extension": ".py",
   "mimetype": "text/x-python",
   "name": "python",
   "nbconvert_exporter": "python",
   "pygments_lexer": "ipython3",
   "version": "3.9.13"
  }
 },
 "nbformat": 4,
 "nbformat_minor": 5
}
